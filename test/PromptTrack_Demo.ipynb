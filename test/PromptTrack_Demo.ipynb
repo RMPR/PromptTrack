{
  "nbformat": 4,
  "nbformat_minor": 0,
  "metadata": {
    "colab": {
      "provenance": [],
      "gpuType": "T4"
    },
    "kernelspec": {
      "name": "python3",
      "display_name": "Python 3"
    },
    "language_info": {
      "name": "python"
    },
    "accelerator": "GPU"
  },
  "cells": [
    {
      "cell_type": "markdown",
      "source": [
        "# **change the run to run with GPU**\n",
        "\n"
      ],
      "metadata": {
        "id": "2BZgD7QEhSCV"
      }
    },
    {
      "cell_type": "code",
      "execution_count": null,
      "metadata": {
        "id": "r_h80OTizPF5"
      },
      "outputs": [],
      "source": [
        "!pip install PromptTrack\n",
        "!pip install --no-deps bytetracker\n",
        "! pip install gdown"
      ]
    },
    {
      "cell_type": "markdown",
      "source": [],
      "metadata": {
        "id": "y5FxJq5teiHv"
      }
    },
    {
      "cell_type": "code",
      "source": [
        "!gdown 'https://drive.google.com/uc?id=1vrD7gmyelzhb2N_4nHvmdu0Tz4Of7Hix'\n",
        "\n"
      ],
      "metadata": {
        "id": "aICAfRTieigA"
      },
      "execution_count": null,
      "outputs": []
    },
    {
      "cell_type": "code",
      "source": [
        "from PromptTrack import PromptTracker\n",
        "tracker = PromptTracker()\n",
        "\n",
        "video_file = \"/content/bird.mp4\"\n",
        "tracker.detect_objects(video_file, prompt=\"penguin\", nms_threshold=0.8, detection_threshold=0.3, detector=\"OWL-VITV2\")\n",
        "\n",
        "tracker.process_mot(video_file, fixed_parc=True, track_thresh=0.40, match_thresh=1, frame_rate=25, max_time_lost=float('inf'), nbr_frames_fixing=800)\n",
        "\n",
        "tracker.read_video_with_mot(video_file, fps=20)"
      ],
      "metadata": {
        "id": "YgyPakdkzWse"
      },
      "execution_count": null,
      "outputs": []
    },
    {
      "cell_type": "code",
      "source": [],
      "metadata": {
        "id": "HcmuwDFq0TRN"
      },
      "execution_count": null,
      "outputs": []
    }
  ]
}